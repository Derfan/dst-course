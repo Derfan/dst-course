{
 "cells": [
  {
   "cell_type": "code",
   "execution_count": 1,
   "metadata": {},
   "outputs": [],
   "source": [
    "import numpy as np\n",
    "\n",
    "\n",
    "def score_game(game_core):\n",
    "    '''\n",
    "        Запускаем игру 1000 раз, чтобы узнать, как быстро игра угадывает число\n",
    "    '''\n",
    "    # фиксируем RANDOM SEED, чтобы ваш эксперимент был воспроизводим!\n",
    "    np.random.seed(1)\n",
    "\n",
    "    count_ls = []\n",
    "\n",
    "    random_array = np.random.randint(1, 101, size=(1000))\n",
    "    for number in random_array:\n",
    "        count_ls.append(game_core(number))\n",
    "\n",
    "    score = int(np.mean(count_ls))\n",
    "    print(f\"Ваш алгоритм угадывает число в среднем за {score} попыток\")\n",
    "    return score\n"
   ]
  },
  {
   "cell_type": "code",
   "execution_count": 2,
   "metadata": {},
   "outputs": [],
   "source": [
    "def game_core(number):\n",
    "    '''\n",
    "        Угадываем число при помощи алгоритма бинарного поиска\n",
    "    '''\n",
    "    count = 0\n",
    "    start = 1\n",
    "    stop = 101\n",
    "\n",
    "    while True:\n",
    "        predict = np.mean([start, stop], dtype=np.int)  # предполагаемое число\n",
    "        count += 1\n",
    "\n",
    "        if number == predict:\n",
    "            return count\n",
    "\n",
    "        if number > predict:\n",
    "            start = predict\n",
    "        else:\n",
    "            stop = predict\n"
   ]
  },
  {
   "cell_type": "code",
   "execution_count": 3,
   "metadata": {},
   "outputs": [
    {
     "name": "stdout",
     "output_type": "stream",
     "text": [
      "Ваш алгоритм угадывает число в среднем за 5 попыток\n"
     ]
    },
    {
     "data": {
      "text/plain": [
       "5"
      ]
     },
     "execution_count": 3,
     "metadata": {},
     "output_type": "execute_result"
    }
   ],
   "source": [
    "score_game(game_core)"
   ]
  }
 ],
 "metadata": {
  "kernelspec": {
   "display_name": "Python 3",
   "language": "python",
   "name": "python3"
  },
  "language_info": {
   "codemirror_mode": {
    "name": "ipython",
    "version": 3
   },
   "file_extension": ".py",
   "mimetype": "text/x-python",
   "name": "python",
   "nbconvert_exporter": "python",
   "pygments_lexer": "ipython3",
   "version": "3.7.7"
  }
 },
 "nbformat": 4,
 "nbformat_minor": 4
}
